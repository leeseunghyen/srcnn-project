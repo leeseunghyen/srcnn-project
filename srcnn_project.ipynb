{
  "nbformat": 4,
  "nbformat_minor": 0,
  "metadata": {
    "colab": {
      "provenance": [],
      "authorship_tag": "ABX9TyNTdW9YJjCoKfO4BxIaPwwX",
      "include_colab_link": true
    },
    "kernelspec": {
      "name": "python3",
      "display_name": "Python 3"
    },
    "language_info": {
      "name": "python"
    }
  },
  "cells": [
    {
      "cell_type": "markdown",
      "metadata": {
        "id": "view-in-github",
        "colab_type": "text"
      },
      "source": [
        "<a href=\"https://colab.research.google.com/github/leeseunghyen/srcnn-project/blob/main/srcnn_project.ipynb\" target=\"_parent\"><img src=\"https://colab.research.google.com/assets/colab-badge.svg\" alt=\"Open In Colab\"/></a>"
      ]
    },
    {
      "cell_type": "code",
      "execution_count": 1,
      "metadata": {
        "colab": {
          "base_uri": "https://localhost:8080/"
        },
        "id": "kVmmPsA1B6zS",
        "outputId": "437ab146-9bb8-4dad-db7a-4f9c2d8fdc3a"
      },
      "outputs": [
        {
          "output_type": "stream",
          "name": "stdout",
          "text": [
            "Mounted at srcnn\n"
          ]
        }
      ],
      "source": [
        "from google.colab import drive\n",
        "drive.mount('srcnn')"
      ]
    },
    {
      "cell_type": "code",
      "source": [
        "import torch\n",
        "import matplotlib\n",
        "import matplotlib.pyplot as plt\n",
        "import time\n",
        "import h5py\n",
        "import srcnn\n",
        "import torch.optim as optim\n",
        "import torch.nn as nn\n",
        "import numpy as np\n",
        "import math\n",
        "from torchvision.transforms import ToPILImage\n",
        "from torch.utils.data import DataLoader, Dataset\n",
        "from tqdm import tqdm\n",
        "from sklearn.model_selection import train_test_split\n",
        "from torchvision.utils import save_image\n",
        "%matplotlib inline\n",
        "\n",
        "import torch.nn as nn\n",
        "import torch.nn.functional as F\n",
        "import time\n",
        "\n",
        "device = torch.device('cuda' if torch.cuda.is_available() else 'cpu')"
      ],
      "metadata": {
        "id": "57bIvNBPCRo7"
      },
      "execution_count": 2,
      "outputs": []
    },
    {
      "cell_type": "markdown",
      "source": [
        "데이터셋 불러오기"
      ],
      "metadata": {
        "id": "jzeScCZSDBEf"
      }
    },
    {
      "cell_type": "code",
      "source": [
        "# 디렉토리 이동\n",
        "!cd /content"
      ],
      "metadata": {
        "id": "i4VP3HTzCgAo"
      },
      "execution_count": 3,
      "outputs": []
    },
    {
      "cell_type": "code",
      "source": [
        "# 데이터를 저장할 폴더 생성\n",
        "!mkdir data"
      ],
      "metadata": {
        "id": "zmUYwUcVChbl"
      },
      "execution_count": 4,
      "outputs": []
    },
    {
      "cell_type": "code",
      "source": [
        "# 압축 풀기\n",
        "!unzip /content/srcnn/MyDrive/data/input.zip -d /content/data"
      ],
      "metadata": {
        "colab": {
          "base_uri": "https://localhost:8080/"
        },
        "id": "1kluJ3BACjoc",
        "outputId": "c13a0cc7-9ff7-4112-96f3-082ed0b965dc"
      },
      "execution_count": 5,
      "outputs": [
        {
          "output_type": "stream",
          "name": "stdout",
          "text": [
            "Archive:  /content/srcnn/MyDrive/data/input.zip\n",
            "   creating: /content/data/bicubic_2x/\n",
            "  inflating: /content/data/bicubic_2x/baby_GT.bmp  \n",
            "  inflating: /content/data/bicubic_2x/bird_GT.bmp  \n",
            "  inflating: /content/data/bicubic_2x/butterfly_GT.bmp  \n",
            "  inflating: /content/data/bicubic_2x/head_GT.bmp  \n",
            "  inflating: /content/data/bicubic_2x/woman_GT.bmp  \n",
            "   creating: /content/data/Set5/\n",
            " extracting: /content/data/Set5/baby.png  \n",
            " extracting: /content/data/Set5/bird.png  \n",
            " extracting: /content/data/Set5/butterfly.png  \n",
            " extracting: /content/data/Set5/head.png  \n",
            "  inflating: /content/data/Set5/woman.png  \n",
            "   creating: /content/data/T91/\n",
            "  inflating: /content/data/T91/t1.png  \n",
            " extracting: /content/data/T91/t10.png  \n",
            " extracting: /content/data/T91/t11.png  \n",
            "  inflating: /content/data/T91/t12.png  \n",
            " extracting: /content/data/T91/t13.png  \n",
            " extracting: /content/data/T91/t14.png  \n",
            "  inflating: /content/data/T91/t15.png  \n",
            " extracting: /content/data/T91/t16.png  \n",
            " extracting: /content/data/T91/t17.png  \n",
            " extracting: /content/data/T91/t18.png  \n",
            " extracting: /content/data/T91/t19.png  \n",
            " extracting: /content/data/T91/t2.png  \n",
            "  inflating: /content/data/T91/t20.png  \n",
            " extracting: /content/data/T91/t21.png  \n",
            " extracting: /content/data/T91/t22.png  \n",
            " extracting: /content/data/T91/t23.png  \n",
            " extracting: /content/data/T91/t24.png  \n",
            " extracting: /content/data/T91/t25.png  \n",
            " extracting: /content/data/T91/t26.png  \n",
            " extracting: /content/data/T91/t27.png  \n",
            " extracting: /content/data/T91/t28.png  \n",
            " extracting: /content/data/T91/t29.png  \n",
            " extracting: /content/data/T91/t3.png  \n",
            " extracting: /content/data/T91/t30.png  \n",
            " extracting: /content/data/T91/t31.png  \n",
            " extracting: /content/data/T91/t32.png  \n",
            " extracting: /content/data/T91/t33.png  \n",
            "  inflating: /content/data/T91/t34.png  \n",
            "  inflating: /content/data/T91/t35.png  \n",
            "  inflating: /content/data/T91/t36.png  \n",
            " extracting: /content/data/T91/t37.png  \n",
            " extracting: /content/data/T91/t38.png  \n",
            " extracting: /content/data/T91/t39.png  \n",
            " extracting: /content/data/T91/t4.png  \n",
            " extracting: /content/data/T91/t40.png  \n",
            "  inflating: /content/data/T91/t42.png  \n",
            " extracting: /content/data/T91/t43.png  \n",
            " extracting: /content/data/T91/t44.png  \n",
            " extracting: /content/data/T91/t45.png  \n",
            " extracting: /content/data/T91/t46.png  \n",
            " extracting: /content/data/T91/t47.png  \n",
            " extracting: /content/data/T91/t48.png  \n",
            " extracting: /content/data/T91/t49.png  \n",
            "  inflating: /content/data/T91/t5.png  \n",
            " extracting: /content/data/T91/t50.png  \n",
            " extracting: /content/data/T91/t51.png  \n",
            " extracting: /content/data/T91/t52.png  \n",
            "  inflating: /content/data/T91/t53.png  \n",
            " extracting: /content/data/T91/t54.png  \n",
            "  inflating: /content/data/T91/t55.png  \n",
            "  inflating: /content/data/T91/t56.png  \n",
            "  inflating: /content/data/T91/t57.png  \n",
            " extracting: /content/data/T91/t58.png  \n",
            " extracting: /content/data/T91/t59.png  \n",
            " extracting: /content/data/T91/t6.png  \n",
            "  inflating: /content/data/T91/t60.png  \n",
            " extracting: /content/data/T91/t61.png  \n",
            " extracting: /content/data/T91/t62.png  \n",
            " extracting: /content/data/T91/t63.png  \n",
            "  inflating: /content/data/T91/t64.png  \n",
            "  inflating: /content/data/T91/t65.png  \n",
            " extracting: /content/data/T91/t66.png  \n",
            " extracting: /content/data/T91/t7.png  \n",
            " extracting: /content/data/T91/t8.png  \n",
            " extracting: /content/data/T91/t9.png  \n",
            " extracting: /content/data/T91/tt1.png  \n",
            " extracting: /content/data/T91/tt10.png  \n",
            "  inflating: /content/data/T91/tt12.png  \n",
            " extracting: /content/data/T91/tt13.png  \n",
            "  inflating: /content/data/T91/tt14.png  \n",
            " extracting: /content/data/T91/tt15.png  \n",
            "  inflating: /content/data/T91/tt16.png  \n",
            " extracting: /content/data/T91/tt17.png  \n",
            "  inflating: /content/data/T91/tt18.png  \n",
            "  inflating: /content/data/T91/tt19.png  \n",
            "  inflating: /content/data/T91/tt2.png  \n",
            " extracting: /content/data/T91/tt20.png  \n",
            " extracting: /content/data/T91/tt21.png  \n",
            " extracting: /content/data/T91/tt22.png  \n",
            " extracting: /content/data/T91/tt23.png  \n",
            "  inflating: /content/data/T91/tt24.png  \n",
            " extracting: /content/data/T91/tt25.png  \n",
            " extracting: /content/data/T91/tt26.png  \n",
            " extracting: /content/data/T91/tt27.png  \n",
            " extracting: /content/data/T91/tt3.png  \n",
            " extracting: /content/data/T91/tt4.png  \n",
            " extracting: /content/data/T91/tt5.png  \n",
            " extracting: /content/data/T91/tt6.png  \n",
            " extracting: /content/data/T91/tt7.png  \n",
            " extracting: /content/data/T91/tt8.png  \n",
            "  inflating: /content/data/T91/tt9.png  \n",
            "  inflating: /content/data/train_mscale.h5  \n"
          ]
        }
      ]
    },
    {
      "cell_type": "code",
      "source": [
        "# 입력 이미지 차원 설정하기\n",
        "input_h, input_w = 33, 33 # sub-image에 대한 크기\n",
        "out_h, out_w = 33, 33 # label인 high-resolution에 대한 크기\n",
        "\n",
        "# sub-images와 label 읽어오기\n",
        "file = h5py.File('/content/data/train_mscale.h5')\n",
        "in_train = file['data'][:] # train data\n",
        "out_train = file['label'][:] # train label\n",
        "file.close()\n",
        "\n",
        "# float32로 타입 변경\n",
        "in_train = in_train.astype('float32')\n",
        "out_train = out_train.astype('float32')\n",
        "\n",
        "# 0.75: 0.15 = train : val 분할\n",
        "(x_train, x_val, y_train, y_val) = train_test_split(in_train, out_train, test_size=0.25)\n",
        "print(x_train.shape[0])\n",
        "print(x_val.shape[0])"
      ],
      "metadata": {
        "colab": {
          "base_uri": "https://localhost:8080/"
        },
        "id": "ENbZSe6cCn9Q",
        "outputId": "b5c34368-9b14-4c43-dfc1-5566062d091d"
      },
      "execution_count": 6,
      "outputs": [
        {
          "output_type": "stream",
          "name": "stdout",
          "text": [
            "16368\n",
            "5456\n"
          ]
        }
      ]
    },
    {
      "cell_type": "code",
      "source": [
        "# 커스텀 데이터셋 생성하기\n",
        "class SRCNNDataset(Dataset):\n",
        "    def __init__(self, image_data, labels):\n",
        "        self.image_data = image_data\n",
        "        self.labels = labels\n",
        "\n",
        "    def __len__(self):\n",
        "        return (len(self.image_data))\n",
        "\n",
        "    def __getitem__(self, index):\n",
        "        image = self.image_data[index]\n",
        "        label = self.labels[index]\n",
        "        return (torch.tensor(image, dtype=torch.float),\n",
        "            torch.tensor(label, dtype=torch.float))\n",
        "\n",
        " # 데이터셋 생성\n",
        "train_ds = SRCNNDataset(x_train, y_train)\n",
        "val_ds = SRCNNDataset(x_val, y_val)\n",
        "\n",
        "# 데이터로더 생성\n",
        "train_dl = DataLoader(train_ds, batch_size=64)\n",
        "val_dl = DataLoader(val_ds, batch_size=64)\n",
        "\n",
        "# 데이터 체크\n",
        "for x, y in train_dl:\n",
        "    print(x.shape, y.shape)\n",
        "    break\n",
        "\n",
        "# 데이터 시각화\n",
        "img = x[0]\n",
        "target = y[0]\n",
        "print(img.shape, target.shape)\n",
        "print(img.dtype)"
      ],
      "metadata": {
        "colab": {
          "base_uri": "https://localhost:8080/"
        },
        "id": "wcnSoXDYCsoL",
        "outputId": "bd4954d7-f2b0-4f6c-bad5-3fcbd42d8730"
      },
      "execution_count": 7,
      "outputs": [
        {
          "output_type": "stream",
          "name": "stdout",
          "text": [
            "torch.Size([64, 1, 33, 33]) torch.Size([64, 1, 33, 33])\n",
            "torch.Size([1, 33, 33]) torch.Size([1, 33, 33])\n",
            "torch.float32\n"
          ]
        }
      ]
    },
    {
      "cell_type": "code",
      "source": [
        "from torchvision.transforms.functional import to_pil_image\n",
        "\n",
        "plt.figure()\n",
        "plt.subplot(1,2,1)\n",
        "plt.imshow(to_pil_image(img), cmap='gray')\n",
        "plt.title('train')\n",
        "plt.subplot(1,2,2)\n",
        "plt.imshow(to_pil_image(target), cmap='gray')\n",
        "plt.title('target')"
      ],
      "metadata": {
        "colab": {
          "base_uri": "https://localhost:8080/",
          "height": 327
        },
        "id": "hL5roH5ZC2RF",
        "outputId": "93516ca5-eb78-4ceb-f169-78ba594d7b29"
      },
      "execution_count": 8,
      "outputs": [
        {
          "output_type": "execute_result",
          "data": {
            "text/plain": [
              "Text(0.5, 1.0, 'target')"
            ]
          },
          "metadata": {},
          "execution_count": 8
        },
        {
          "output_type": "display_data",
          "data": {
            "text/plain": [
              "<Figure size 640x480 with 2 Axes>"
            ],
            "image/png": "[encoded data removed]"
          },
          "metadata": {}
        }
      ]
    },
    {
      "cell_type": "markdown",
      "source": [
        "모델구축"
      ],
      "metadata": {
        "id": "aGyhDWacDHGI"
      }
    },
    {
      "cell_type": "code",
      "source": [
        "class SRCNN(nn.Module):\n",
        "    def __init__(self):\n",
        "        super().__init__()\n",
        "\n",
        "        # padding_mode='replicate'는 zero padding이 아닌, 주변 값을 복사해서 padding 합니다.\n",
        "        self.conv1 = nn.Conv2d(1, 64, 9, padding=2, padding_mode='replicate')\n",
        "        self.conv2 = nn.Conv2d(64, 32, 1, padding=2, padding_mode='replicate')\n",
        "        self.conv3 = nn.Conv2d(32, 1, 5, padding=2, padding_mode='replicate')\n",
        "\n",
        "    def forward(self, x):\n",
        "        x = F.relu(self.conv1(x))\n",
        "        x = F.relu(self.conv2(x))\n",
        "        x = self.conv3(x)\n",
        "\n",
        "        return x\n",
        "\n",
        "# check\n",
        "x = torch.randn(64,1,33,33).to(device)\n",
        "model = SRCNN().to(device)\n",
        "output = model(x)\n",
        "print(output.shape)\n",
        "\n",
        "# 가중치 초기화\n",
        "def initialize_weights(model):\n",
        "    classname = model.__class__.__name__\n",
        "    if classname.find('Conv') != -1:\n",
        "        nn.init.normal_(model.weight.data, 0.0, 0.02)\n",
        "\n",
        "model.apply(initialize_weights);"
      ],
      "metadata": {
        "colab": {
          "base_uri": "https://localhost:8080/"
        },
        "id": "ZvuZzFnPDKfh",
        "outputId": "b63bd710-4084-41a9-8570-62638a82e497"
      },
      "execution_count": 9,
      "outputs": [
        {
          "output_type": "stream",
          "name": "stdout",
          "text": [
            "torch.Size([64, 1, 33, 33])\n"
          ]
        }
      ]
    },
    {
      "cell_type": "markdown",
      "source": [
        "학습하기"
      ],
      "metadata": {
        "id": "AoaxCpUeDSuo"
      }
    },
    {
      "cell_type": "code",
      "source": [
        "# 손실함수\n",
        "loss_func = nn.MSELoss()\n",
        "\n",
        "# optimizer\n",
        "import torch.optim as optim\n",
        "optimizer = optim.Adam(model.parameters())\n",
        "\n",
        "# PSNR function: 모델의 출력값과 high-resoultion의 유사도를 측정합니다.\n",
        "# PSNR 값이 클수록 좋습니다.\n",
        "def psnr(label, outputs, max_val=1.):\n",
        "    label = label.cpu().detach().numpy()\n",
        "    outputs = outputs.cpu().detach().numpy()\n",
        "    img_diff = outputs - label\n",
        "    rmse = math.sqrt(np.mean((img_diff)**2))\n",
        "    if rmse == 0: # label과 output이 완전히 일치하는 경우\n",
        "        return 100\n",
        "    else:\n",
        "        psnr = 20 * math.log10(max_val/rmse)\n",
        "        return psnr"
      ],
      "metadata": {
        "id": "ML9OcjQIDUgu"
      },
      "execution_count": 10,
      "outputs": []
    },
    {
      "cell_type": "code",
      "source": [
        "# train 함수\n",
        "def train(model, data_dl):\n",
        "    model.train()\n",
        "    running_loss = 0.0\n",
        "    running_psnr = 0.0\n",
        "\n",
        "    for ba, data in enumerate(data_dl):\n",
        "        image = data[0].to(device)\n",
        "        label = data[1].to(device)\n",
        "\n",
        "        optimizer.zero_grad()\n",
        "        outputs = model(image)\n",
        "        loss = loss_func(outputs, label)\n",
        "        loss.backward()\n",
        "        optimizer.step()\n",
        "\n",
        "        running_loss += loss.item()\n",
        "        batch_psnr = psnr(label, outputs)\n",
        "        running_psnr += batch_psnr\n",
        "\n",
        "    final_loss = running_loss / len(data_dl.dataset)\n",
        "    final_psnr = running_psnr / int(len(train_ds)/data_dl.batch_size)\n",
        "    return final_loss, final_psnr"
      ],
      "metadata": {
        "id": "D4N3b7AuDZ0E"
      },
      "execution_count": 11,
      "outputs": []
    },
    {
      "cell_type": "code",
      "source": [
        "# validation 함수\n",
        "def validate(model, data_dl, epoch):\n",
        "    # epoch는 이미지를 저장할때, 이미지의 이름으로 사용됩니다.\n",
        "\n",
        "    model.eval()\n",
        "    running_loss = 0.0\n",
        "    running_psnr = 0.0\n",
        "    with torch.no_grad():\n",
        "        for ba, data in enumerate(data_dl):\n",
        "            image = data[0].to(device)\n",
        "            label = data[1].to(device)\n",
        "\n",
        "            outputs = model(image)\n",
        "            loss = loss_func(outputs, label)\n",
        "\n",
        "            running_loss += loss.item()\n",
        "            batch_psnr = psnr(label,outputs)\n",
        "            running_psnr += batch_psnr\n",
        "\n",
        "        outputs = outputs.cpu()\n",
        "        # tensor를 입력받아 이미지 파일로 저장합니다.\n",
        "        save_image(outputs, f'/content/outputs/{epoch}.png')\n",
        "\n",
        "    final_loss = running_loss / len(data_dl.dataset)\n",
        "    final_psnr = running_psnr / int(len(val_ds)/data_dl.batch_size)\n",
        "    return final_loss, final_psnr"
      ],
      "metadata": {
        "id": "E2ZIoSeEDc9C"
      },
      "execution_count": 12,
      "outputs": []
    },
    {
      "cell_type": "code",
      "source": [
        "# 이미지를 저장할 폴더 생성\n",
        "!mkdir outputs\n",
        "\n",
        "num_epochs = 50\n",
        "\n",
        "# 학습하기\n",
        "train_loss, val_loss = [], []\n",
        "train_psnr, val_psnr = [], []\n",
        "start = time.time()\n",
        "for epoch in range(num_epochs):\n",
        "    print(f'Epoch {epoch + 1} of {num_epochs}')\n",
        "    train_epoch_loss, train_epoch_psnr = train(model, train_dl)\n",
        "    val_epoch_loss, val_epoch_psnr = validate(model, val_dl, epoch)\n",
        "\n",
        "    train_loss.append(train_epoch_loss)\n",
        "    train_psnr.append(train_epoch_psnr)\n",
        "    val_loss.append(val_epoch_loss)\n",
        "    val_psnr.append(val_epoch_psnr)\n",
        "    end = time.time()\n",
        "    print(f'Train PSNR: {train_epoch_psnr:.3f}, Val PSNR: {val_epoch_psnr:.3f}, Time: {end-start:.2f} sec')"
      ],
      "metadata": {
        "colab": {
          "base_uri": "https://localhost:8080/"
        },
        "id": "O29yznTXDeHz",
        "outputId": "a0b44dc9-46a7-4a0b-d093-34280455e175"
      },
      "execution_count": 13,
      "outputs": [
        {
          "output_type": "stream",
          "name": "stdout",
          "text": [
            "Epoch 1 of 50\n",
            "Train PSNR: 23.186, Val PSNR: 25.886, Time: 83.27 sec\n",
            "Epoch 2 of 50\n",
            "Train PSNR: 25.958, Val PSNR: 26.305, Time: 162.87 sec\n",
            "Epoch 3 of 50\n",
            "Train PSNR: 26.253, Val PSNR: 26.585, Time: 242.37 sec\n",
            "Epoch 4 of 50\n",
            "Train PSNR: 26.553, Val PSNR: 26.903, Time: 322.80 sec\n",
            "Epoch 5 of 50\n",
            "Train PSNR: 26.818, Val PSNR: 27.135, Time: 404.65 sec\n",
            "Epoch 6 of 50\n",
            "Train PSNR: 26.991, Val PSNR: 27.246, Time: 485.74 sec\n",
            "Epoch 7 of 50\n",
            "Train PSNR: 27.067, Val PSNR: 27.280, Time: 565.93 sec\n",
            "Epoch 8 of 50\n",
            "Train PSNR: 27.096, Val PSNR: 27.279, Time: 645.53 sec\n",
            "Epoch 9 of 50\n",
            "Train PSNR: 27.118, Val PSNR: 27.351, Time: 726.20 sec\n",
            "Epoch 10 of 50\n",
            "Train PSNR: 27.123, Val PSNR: 27.369, Time: 806.05 sec\n",
            "Epoch 11 of 50\n",
            "Train PSNR: 27.136, Val PSNR: 27.380, Time: 888.40 sec\n",
            "Epoch 12 of 50\n",
            "Train PSNR: 27.148, Val PSNR: 27.386, Time: 970.01 sec\n",
            "Epoch 13 of 50\n",
            "Train PSNR: 27.158, Val PSNR: 27.421, Time: 1050.18 sec\n",
            "Epoch 14 of 50\n",
            "Train PSNR: 27.183, Val PSNR: 27.411, Time: 1132.19 sec\n",
            "Epoch 15 of 50\n",
            "Train PSNR: 27.191, Val PSNR: 27.430, Time: 1214.15 sec\n",
            "Epoch 16 of 50\n",
            "Train PSNR: 27.205, Val PSNR: 27.443, Time: 1294.29 sec\n",
            "Epoch 17 of 50\n",
            "Train PSNR: 27.221, Val PSNR: 27.454, Time: 1375.45 sec\n",
            "Epoch 18 of 50\n",
            "Train PSNR: 27.236, Val PSNR: 27.470, Time: 1454.90 sec\n",
            "Epoch 19 of 50\n",
            "Train PSNR: 27.252, Val PSNR: 27.490, Time: 1534.42 sec\n",
            "Epoch 20 of 50\n",
            "Train PSNR: 27.267, Val PSNR: 27.509, Time: 1615.23 sec\n",
            "Epoch 21 of 50\n",
            "Train PSNR: 27.283, Val PSNR: 27.534, Time: 1693.69 sec\n",
            "Epoch 22 of 50\n",
            "Train PSNR: 27.306, Val PSNR: 27.541, Time: 1774.18 sec\n",
            "Epoch 23 of 50\n",
            "Train PSNR: 27.306, Val PSNR: 27.573, Time: 1853.50 sec\n",
            "Epoch 24 of 50\n",
            "Train PSNR: 27.336, Val PSNR: 27.570, Time: 1931.70 sec\n",
            "Epoch 25 of 50\n",
            "Train PSNR: 27.345, Val PSNR: 27.579, Time: 2011.04 sec\n",
            "Epoch 26 of 50\n",
            "Train PSNR: 27.347, Val PSNR: 27.618, Time: 2089.22 sec\n",
            "Epoch 27 of 50\n",
            "Train PSNR: 27.378, Val PSNR: 27.603, Time: 2167.84 sec\n",
            "Epoch 28 of 50\n",
            "Train PSNR: 27.382, Val PSNR: 27.609, Time: 2245.93 sec\n",
            "Epoch 29 of 50\n",
            "Train PSNR: 27.382, Val PSNR: 27.649, Time: 2323.74 sec\n",
            "Epoch 30 of 50\n",
            "Train PSNR: 27.407, Val PSNR: 27.631, Time: 2402.72 sec\n",
            "Epoch 31 of 50\n",
            "Train PSNR: 27.414, Val PSNR: 27.656, Time: 2480.68 sec\n",
            "Epoch 32 of 50\n",
            "Train PSNR: 27.420, Val PSNR: 27.690, Time: 2558.63 sec\n",
            "Epoch 33 of 50\n",
            "Train PSNR: 27.433, Val PSNR: 27.690, Time: 2637.55 sec\n",
            "Epoch 34 of 50\n",
            "Train PSNR: 27.451, Val PSNR: 27.668, Time: 2715.90 sec\n",
            "Epoch 35 of 50\n",
            "Train PSNR: 27.441, Val PSNR: 27.713, Time: 2794.17 sec\n",
            "Epoch 36 of 50\n",
            "Train PSNR: 27.457, Val PSNR: 27.724, Time: 2872.43 sec\n",
            "Epoch 37 of 50\n",
            "Train PSNR: 27.468, Val PSNR: 27.731, Time: 2950.50 sec\n",
            "Epoch 38 of 50\n",
            "Train PSNR: 27.472, Val PSNR: 27.744, Time: 3029.22 sec\n",
            "Epoch 39 of 50\n",
            "Train PSNR: 27.484, Val PSNR: 27.713, Time: 3106.79 sec\n",
            "Epoch 40 of 50\n",
            "Train PSNR: 27.485, Val PSNR: 27.764, Time: 3184.39 sec\n",
            "Epoch 41 of 50\n",
            "Train PSNR: 27.491, Val PSNR: 27.765, Time: 3262.53 sec\n",
            "Epoch 42 of 50\n",
            "Train PSNR: 27.506, Val PSNR: 27.778, Time: 3339.72 sec\n",
            "Epoch 43 of 50\n",
            "Train PSNR: 27.508, Val PSNR: 27.781, Time: 3417.09 sec\n",
            "Epoch 44 of 50\n",
            "Train PSNR: 27.496, Val PSNR: 27.784, Time: 3495.70 sec\n",
            "Epoch 45 of 50\n",
            "Train PSNR: 27.508, Val PSNR: 27.380, Time: 3572.88 sec\n",
            "Epoch 46 of 50\n",
            "Train PSNR: 27.517, Val PSNR: 27.646, Time: 3650.57 sec\n",
            "Epoch 47 of 50\n",
            "Train PSNR: 27.522, Val PSNR: 27.690, Time: 3729.21 sec\n",
            "Epoch 48 of 50\n",
            "Train PSNR: 27.528, Val PSNR: 27.829, Time: 3806.78 sec\n",
            "Epoch 49 of 50\n",
            "Train PSNR: 27.554, Val PSNR: 27.729, Time: 3884.86 sec\n",
            "Epoch 50 of 50\n",
            "Train PSNR: 27.533, Val PSNR: 27.619, Time: 3963.12 sec\n"
          ]
        }
      ]
    },
    {
      "cell_type": "code",
      "source": [
        "# loss plots\n",
        "plt.figure(figsize=(7, 4))\n",
        "plt.plot(train_loss, color='orange', label='train loss')\n",
        "plt.plot(val_loss, color='red', label='validataion loss')\n",
        "plt.xlabel('Epochs')\n",
        "plt.ylabel('Loss')\n",
        "plt.legend()\n",
        "plt.show()\n",
        "\n",
        "# psnr plots\n",
        "plt.figure(figsize=(7, 4))\n",
        "plt.plot(train_psnr, color='green', label='train PSNR dB')\n",
        "plt.plot(val_psnr, color='blue', label='validataion PSNR dB')\n",
        "plt.xlabel('Epochs')\n",
        "plt.ylabel('PSNR (dB)')\n",
        "plt.legend()\n",
        "plt.show()"
      ],
      "metadata": {
        "colab": {
          "base_uri": "https://localhost:8080/",
          "height": 761
        },
        "id": "8foISFGuDkoX",
        "outputId": "e6c68b15-58e6-4f2c-8a0d-e4e47fdbe47c"
      },
      "execution_count": 14,
      "outputs": [
        {
          "output_type": "display_data",
          "data": {
            "text/plain": [
              "<Figure size 700x400 with 1 Axes>"
            ],
            "image/png": "[encoded data removed]"
          },
          "metadata": {}
        },
        {
          "output_type": "display_data",
          "data": {
            "text/plain": [
              "<Figure size 700x400 with 1 Axes>"
            ],
            "image/png": "[encoded data removed]"
          },
          "metadata": {}
        }
      ]
    },
    {
      "cell_type": "code",
      "source": [
        "# 이미지 꺼내기\n",
        "for img, label in val_dl:\n",
        "    img = img[19]\n",
        "    label = label[19]\n",
        "    break\n",
        "\n",
        "# super-resolution\n",
        "model.eval()\n",
        "with torch.no_grad():\n",
        "    img_ = img.unsqueeze(0)\n",
        "    img_ = img_.to(device)\n",
        "    output = model(img_)\n",
        "    output = output.squeeze(0)\n",
        "\n",
        "# 시각화\n",
        "plt.figure(figsize=(10,10))\n",
        "plt.subplot(1,3,1)\n",
        "plt.imshow(to_pil_image(img))\n",
        "plt.title('input')\n",
        "plt.subplot(1,3,2)\n",
        "plt.imshow(to_pil_image(output))\n",
        "plt.title('output')\n",
        "plt.subplot(1,3,3)\n",
        "plt.imshow(to_pil_image(label))\n",
        "plt.title('ground_truth')"
      ],
      "metadata": {
        "colab": {
          "base_uri": "https://localhost:8080/",
          "height": 329
        },
        "id": "i1SoKUJZDnrN",
        "outputId": "c6cb1c34-e0a2-48d9-8d97-aec3d0e2441b"
      },
      "execution_count": 15,
      "outputs": [
        {
          "output_type": "execute_result",
          "data": {
            "text/plain": [
              "Text(0.5, 1.0, 'ground_truth')"
            ]
          },
          "metadata": {},
          "execution_count": 15
        },
        {
          "output_type": "display_data",
          "data": {
            "text/plain": [
              "<Figure size 1000x1000 with 3 Axes>"
            ],
            "image/png": "[encoded data removed]"
          },
          "metadata": {}
        }
      ]
    }
  ]
}